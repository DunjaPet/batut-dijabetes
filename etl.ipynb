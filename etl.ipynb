{
 "cells": [
  {
   "cell_type": "code",
   "execution_count": 12,
   "metadata": {},
   "outputs": [],
   "source": [
    "import pandas as pd\n",
    "import os\n",
    "import re\n",
    "import numpy as np\n",
    "import logging\n",
    "logger = logging.getLogger(__name__)"
   ]
  },
  {
   "cell_type": "code",
   "execution_count": 2,
   "metadata": {},
   "outputs": [
    {
     "data": {
      "text/plain": [
       "'c:\\\\Users\\\\petrovdu\\\\OneDrive - Organon\\\\documents\\\\diabetes-batut\\\\data'"
      ]
     },
     "execution_count": 2,
     "metadata": {},
     "output_type": "execute_result"
    }
   ],
   "source": [
    "current_directory = os.getcwd()\n",
    "data_directory = os.path.join(current_directory, r'data')\n",
    "data_directory"
   ]
  },
  {
   "cell_type": "markdown",
   "metadata": {},
   "source": [
    "File routines"
   ]
  },
  {
   "cell_type": "code",
   "execution_count": 22,
   "metadata": {},
   "outputs": [],
   "source": [
    "logger.setLevel(logging.INFO)\n",
    "logger.info('Started')\n",
    "\n",
    "\n",
    "regex = re.compile(r'\\d+')\n",
    "\n",
    "def extract_okrug(text):\n",
    "    pattern = r'\\b(\\w+\\s+okrug|grad\\s+Beograd)\\b'\n",
    "    if pd.notna(text):\n",
    "        match = re.search(pattern, text)\n",
    "        if match:\n",
    "            return match.group()\n",
    "    return None    \n",
    "\n",
    "atc_prop_df = pd.DataFrame()\n",
    "atc_real_df = pd.DataFrame()\n",
    "mtp_real_df = pd.DataFrame()\n",
    "mtp_prop_df = pd.DataFrame()\n",
    "\n",
    "for (dirpath, dirnames, filenames) in os.walk(data_directory):\n",
    "    for file in filenames:\n",
    "        file_path = os.path.join(dirpath, file)\n",
    "\n",
    "        if file.endswith('.csv'):\n",
    "            logger.info(f\"Reading File {file}\")\n",
    "            df = pd.read_csv(data_directory+'\\\\' + file ,sep = \";\", encoding='windows-1250',on_bad_lines='skip')\n",
    "            # add year column\n",
    "            year = regex.findall(file)[0] \n",
    "            df['Godina'] = year  \n",
    "            # extract okrug from filijala   \n",
    "            df['Okrug'] = df['Filijala'].apply(lambda x: extract_okrug(x))    \n",
    "            # drop Filijala\n",
    "            df.drop(['Filijala'], axis=1,inplace=True)\n",
    "            # fill empty okrug\n",
    "            df['Okrug'] = df.Okrug.fillna('Nepoznat')\n",
    "            # group files by filename\n",
    "            base_filename = re.sub('\\d+','', file)\n",
    "            \n",
    "            if base_filename == 'atc_propisani.csv':\n",
    "                atc_prop_df = pd.concat([atc_prop_df, df], ignore_index=True)\n",
    "\n",
    "            elif base_filename == 'atc_realizovani.csv':\n",
    "                atc_real_df = pd.concat([atc_real_df, df], ignore_index=True)\n",
    "\n",
    "            elif base_filename == 'mtp_realizovani.csv':\n",
    "                mtp_real_df = pd.concat([mtp_real_df, df], ignore_index=True)\n",
    "\n",
    "\n",
    "            elif base_filename == 'mtp_propisani.csv':\n",
    "                mtp_prop_df = pd.concat([mtp_prop_df, df], ignore_index=True)   \n",
    "\n",
    "            else:\n",
    "                logger.info (f\"Skipping unsupported file: {file}\")\n",
    "\n",
    "                     \n",
    "                \n",
    "        elif file.endswith('.xlsx'):\n",
    "            logger.info(f\"Reading File {file}\")\n",
    "            if file == 'filijale.xlsx':\n",
    "                filijale = pd.read_excel(data_directory+'\\\\' + file)\n",
    "            if file == 'sifremtp.xlsx':\n",
    "                sifremtp = pd.read_excel(data_directory+'\\\\' + file)\n",
    "                \n",
    "        else:\n",
    "            logger.info(f\"Skipping unsupported file: {file}\")\n",
    "\n",
    "mtp_real_df['SifraPomagala'] =  np.nanmax(mtp_real_df[['SifraPomagala','SifraLeka']].values , axis=1)\n",
    "mtp_real_df.drop(['SifraLeka'], axis=1,inplace=True)\n",
    "\n",
    "# Save concatenated DataFrames\n",
    "\n",
    "atc_prop_df.to_csv(os.path.join(current_directory, 'atc_prop.csv'),encoding='windows-1250', index=False)\n",
    "atc_real_df.to_csv(os.path.join(current_directory, 'atc_real.csv'),encoding='windows-1250', index=False)\n",
    "mtp_real_df.to_csv(os.path.join(current_directory, 'mtp_real.csv'),encoding='windows-1250', index=False)\n",
    "mtp_prop_df.to_csv(os.path.join(current_directory, 'mtp_prop.csv'),encoding='windows-1250', index=False)\n",
    "\n",
    "logger.info(f\"Saved files in: {current_directory}\")\n",
    "\n",
    "\n",
    "logger.info('Finished')"
   ]
  },
  {
   "cell_type": "code",
   "execution_count": 14,
   "metadata": {},
   "outputs": [
    {
     "data": {
      "text/plain": [
       "IdHash                    int64\n",
       "Filijala                 object\n",
       "Pol                      object\n",
       "Uzrast                    int64\n",
       "BrojIzdatihPakovanja      int64\n",
       "Godina                   object\n",
       "Okrug                    object\n",
       "SifraPomagala           float64\n",
       "dtype: object"
      ]
     },
     "execution_count": 14,
     "metadata": {},
     "output_type": "execute_result"
    }
   ],
   "source": [
    "mtp_real_df.dtypes"
   ]
  },
  {
   "cell_type": "code",
   "execution_count": 16,
   "metadata": {},
   "outputs": [
    {
     "data": {
      "text/html": [
       "<div>\n",
       "<style scoped>\n",
       "    .dataframe tbody tr th:only-of-type {\n",
       "        vertical-align: middle;\n",
       "    }\n",
       "\n",
       "    .dataframe tbody tr th {\n",
       "        vertical-align: top;\n",
       "    }\n",
       "\n",
       "    .dataframe thead th {\n",
       "        text-align: right;\n",
       "    }\n",
       "</style>\n",
       "<table border=\"1\" class=\"dataframe\">\n",
       "  <thead>\n",
       "    <tr style=\"text-align: right;\">\n",
       "      <th></th>\n",
       "      <th>IdHash</th>\n",
       "      <th>Filijala</th>\n",
       "      <th>Pol</th>\n",
       "      <th>Uzrast</th>\n",
       "      <th>BrojIzdatihPakovanja</th>\n",
       "      <th>Godina</th>\n",
       "      <th>Okrug</th>\n",
       "      <th>SifraPomagala</th>\n",
       "    </tr>\n",
       "  </thead>\n",
       "  <tbody>\n",
       "    <tr>\n",
       "      <th>1758368</th>\n",
       "      <td>8407479</td>\n",
       "      <td>Filijala za Južnobacki okrug sa sedištem u Nov...</td>\n",
       "      <td>F</td>\n",
       "      <td>70</td>\n",
       "      <td>90</td>\n",
       "      <td>2021</td>\n",
       "      <td>Južnobacki okrug</td>\n",
       "      <td>14710.0</td>\n",
       "    </tr>\n",
       "    <tr>\n",
       "      <th>1758369</th>\n",
       "      <td>4713803</td>\n",
       "      <td>Filijala za grad Beograd</td>\n",
       "      <td>M</td>\n",
       "      <td>68</td>\n",
       "      <td>300</td>\n",
       "      <td>2021</td>\n",
       "      <td>grad Beograd</td>\n",
       "      <td>15020.0</td>\n",
       "    </tr>\n",
       "    <tr>\n",
       "      <th>1758370</th>\n",
       "      <td>8047680</td>\n",
       "      <td>Filijala za grad Beograd</td>\n",
       "      <td>M</td>\n",
       "      <td>84</td>\n",
       "      <td>50</td>\n",
       "      <td>2021</td>\n",
       "      <td>grad Beograd</td>\n",
       "      <td>15040.0</td>\n",
       "    </tr>\n",
       "    <tr>\n",
       "      <th>1758371</th>\n",
       "      <td>8047680</td>\n",
       "      <td>Filijala za grad Beograd</td>\n",
       "      <td>M</td>\n",
       "      <td>84</td>\n",
       "      <td>90</td>\n",
       "      <td>2021</td>\n",
       "      <td>grad Beograd</td>\n",
       "      <td>14710.0</td>\n",
       "    </tr>\n",
       "    <tr>\n",
       "      <th>1758372</th>\n",
       "      <td>4164866</td>\n",
       "      <td>Filijala za Južnobanatski okrug sa sedištem u ...</td>\n",
       "      <td>M</td>\n",
       "      <td>59</td>\n",
       "      <td>50</td>\n",
       "      <td>2021</td>\n",
       "      <td>Južnobanatski okrug</td>\n",
       "      <td>15040.0</td>\n",
       "    </tr>\n",
       "  </tbody>\n",
       "</table>\n",
       "</div>"
      ],
      "text/plain": [
       "          IdHash                                           Filijala Pol  \\\n",
       "1758368  8407479  Filijala za Južnobacki okrug sa sedištem u Nov...   F   \n",
       "1758369  4713803                           Filijala za grad Beograd   M   \n",
       "1758370  8047680                           Filijala za grad Beograd   M   \n",
       "1758371  8047680                           Filijala za grad Beograd   M   \n",
       "1758372  4164866  Filijala za Južnobanatski okrug sa sedištem u ...   M   \n",
       "\n",
       "         Uzrast  BrojIzdatihPakovanja Godina                Okrug  \\\n",
       "1758368      70                    90   2021     Južnobacki okrug   \n",
       "1758369      68                   300   2021         grad Beograd   \n",
       "1758370      84                    50   2021         grad Beograd   \n",
       "1758371      84                    90   2021         grad Beograd   \n",
       "1758372      59                    50   2021  Južnobanatski okrug   \n",
       "\n",
       "         SifraPomagala  \n",
       "1758368        14710.0  \n",
       "1758369        15020.0  \n",
       "1758370        15040.0  \n",
       "1758371        14710.0  \n",
       "1758372        15040.0  "
      ]
     },
     "execution_count": 16,
     "metadata": {},
     "output_type": "execute_result"
    }
   ],
   "source": [
    "mtp_real_df.tail()"
   ]
  },
  {
   "cell_type": "code",
   "execution_count": 24,
   "metadata": {},
   "outputs": [
    {
     "name": "stderr",
     "output_type": "stream",
     "text": [
      "[NbConvertApp] Converting notebook etl.ipynb to script\n",
      "[NbConvertApp] Writing 2818 bytes to etl.py\n"
     ]
    }
   ],
   "source": [
    "! jupyter nbconvert --to script etl.ipynb"
   ]
  }
 ],
 "metadata": {
  "kernelspec": {
   "display_name": ".venv",
   "language": "python",
   "name": "python3"
  },
  "language_info": {
   "codemirror_mode": {
    "name": "ipython",
    "version": 3
   },
   "file_extension": ".py",
   "mimetype": "text/x-python",
   "name": "python",
   "nbconvert_exporter": "python",
   "pygments_lexer": "ipython3",
   "version": "3.9.13"
  }
 },
 "nbformat": 4,
 "nbformat_minor": 2
}
