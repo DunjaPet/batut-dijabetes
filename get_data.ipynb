{
 "cells": [
  {
   "cell_type": "code",
   "execution_count": 5,
   "metadata": {},
   "outputs": [],
   "source": [
    "from urllib.request import urlretrieve\n",
    "import os"
   ]
  },
  {
   "cell_type": "code",
   "execution_count": 33,
   "metadata": {},
   "outputs": [],
   "source": [
    "#os.chdir('c:\\\\Users\\\\petrovdu\\\\OneDrive - Organon\\\\documents\\\\diabetes-batut') "
   ]
  },
  {
   "cell_type": "code",
   "execution_count": 9,
   "metadata": {},
   "outputs": [],
   "source": [
    "current_directory = os.getcwd()\n",
    "final_directory = os.path.join(current_directory, r'data')\n",
    "if not os.path.exists(final_directory):\n",
    "   os.makedirs(final_directory)"
   ]
  },
  {
   "cell_type": "code",
   "execution_count": 10,
   "metadata": {},
   "outputs": [
    {
     "data": {
      "text/plain": [
       "'c:\\\\Users\\\\petrovdu\\\\OneDrive - Organon\\\\documents\\\\diabetes-batut\\\\data'"
      ]
     },
     "execution_count": 10,
     "metadata": {},
     "output_type": "execute_result"
    }
   ],
   "source": [
    "final_directory"
   ]
  },
  {
   "cell_type": "markdown",
   "metadata": {},
   "source": [
    "Downloading the files from https://data.gov.rs/sr/datasets/dijabetes/"
   ]
  },
  {
   "cell_type": "code",
   "execution_count": 11,
   "metadata": {},
   "outputs": [],
   "source": [
    "url =                   [\n",
    "                        'https://data.gov.rs/sr/datasets/r/1be52d31-1af0-4441-aa93-3593b7e8fd0e'\n",
    "                       ,'https://data.gov.rs/sr/datasets/r/ec19b957-e7d6-45a5-8321-0893258b2618'\n",
    "                       ,'https://data.gov.rs/sr/datasets/r/c8a76d70-ec4e-4618-a858-31f89fce647a'\n",
    "                       ,'https://data.gov.rs/sr/datasets/r/b618411b-adae-44e4-84db-6fb1ad955a44'\n",
    "                       ,'https://data.gov.rs/sr/datasets/r/5182de0c-67da-49ce-9974-1dbbfdd9eb21'\n",
    "                       ,'https://data.gov.rs/sr/datasets/r/548c3133-458e-4f92-ab7a-c690306c09da'\n",
    "                       ,'https://data.gov.rs/sr/datasets/r/dc86f7e2-de21-4785-acb5-3161fffaf748'\n",
    "                       ,'https://data.gov.rs/sr/datasets/r/79d98f28-2c0d-48a8-bbc8-41f106d9e2f7'\n",
    "                       ,'https://data.gov.rs/sr/datasets/r/aead0882-a4da-46b9-ada7-fe753fef4312'\n",
    "                       ,'https://data.gov.rs/sr/datasets/r/3a976dd0-1a3e-4a27-9614-18df3223c9d9'\n",
    "                       ,'https://data.gov.rs/sr/datasets/r/36bf0f8c-27fc-4058-9eb0-d16056b8a413'\n",
    "                       ,'https://data.gov.rs/sr/datasets/r/e548dcb6-0c71-49b3-8d7e-f6240d177203'\n",
    "                       ,'https://data.gov.rs/sr/datasets/r/27498d6c-c86e-4bca-9eec-72e74a1bcd3d'\n",
    "                       ]"
   ]
  },
  {
   "cell_type": "code",
   "execution_count": 12,
   "metadata": {},
   "outputs": [],
   "source": [
    "filenames =                [\n",
    "                            os.path.join(final_directory, 'filijale.xlsx')\n",
    "                            ,os.path.join(final_directory, 'mtp_realizovani2021.csv')\n",
    "                            ,os.path.join(final_directory, 'mtp_realizovani2020.csv')\n",
    "                            ,os.path.join(final_directory, 'mtp_realizovani2019.csv')\n",
    "                            ,os.path.join(final_directory, 'mtp_propisani2021.csv')\n",
    "                            ,os.path.join(final_directory, 'mtp_propisani2020.csv')\n",
    "                            ,os.path.join(final_directory, 'mtp_propisani2019.csv')\n",
    "                            ,os.path.join(final_directory, 'atc_realizovani2021.csv')\n",
    "                            ,os.path.join(final_directory, 'atc_realizovani2020.csv')\n",
    "                            ,os.path.join(final_directory, 'atc_realizovani2019.csv')\n",
    "                            ,os.path.join(final_directory, 'atc_propisani2021.csv')\n",
    "                            ,os.path.join(final_directory, 'atc_propisani2020.csv')\n",
    "                            ,os.path.join(final_directory, 'atc_propisani2019.csv')\n",
    "                            ]"
   ]
  },
  {
   "cell_type": "code",
   "execution_count": 13,
   "metadata": {},
   "outputs": [],
   "source": [
    "for url, name in zip(url , filenames ):\n",
    "    urlretrieve(url,name)"
   ]
  }
 ],
 "metadata": {
  "kernelspec": {
   "display_name": ".venv",
   "language": "python",
   "name": "python3"
  },
  "language_info": {
   "codemirror_mode": {
    "name": "ipython",
    "version": 3
   },
   "file_extension": ".py",
   "mimetype": "text/x-python",
   "name": "python",
   "nbconvert_exporter": "python",
   "pygments_lexer": "ipython3",
   "version": "3.9.13"
  }
 },
 "nbformat": 4,
 "nbformat_minor": 2
}
